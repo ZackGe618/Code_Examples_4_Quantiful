{
 "cells": [
  {
   "cell_type": "markdown",
   "metadata": {},
   "source": [
    "## Julia part (30 marks)"
   ]
  },
  {
   "cell_type": "markdown",
   "metadata": {},
   "source": [
    "In the folder `Penguin_data` you find two datasets (csv formatted files) about at-sea observations of seabirds dating from 1969 to 1990 in New Zealand. You can find more information here: https://catalogue.data.govt.nz/dataset/at-sea-observations-of-seabirds-1969-to-1990\n",
    "\n",
    "This is true-life messy data. Handle with care ;-)\n",
    "\n",
    "Your task for this part is to load the data, wrangle it a bit, and answer a couple of question.\n",
    "\n",
    "_hint_ this is the moment to go back to the Julia notebooks for lab 1 to 4."
   ]
  },
  {
   "cell_type": "markdown",
   "metadata": {},
   "source": [
    "### Load the data (5 marks)"
   ]
  },
  {
   "cell_type": "markdown",
   "metadata": {},
   "source": [
    "Load the two dataset into two separate data frames.\n",
    "\n",
    "_hint_ take a look at the package `CSV.jl` and `DataFrames.jl`."
   ]
  },
  {
   "cell_type": "markdown",
   "metadata": {},
   "source": [
    "I can starting to add package and using after using using Pkg"
   ]
  },
  {
   "cell_type": "code",
   "execution_count": 66,
   "metadata": {},
   "outputs": [],
   "source": [
    "using Pkg"
   ]
  },
  {
   "cell_type": "markdown",
   "metadata": {},
   "source": [
    "To load and use package - \"DataFrames\""
   ]
  },
  {
   "cell_type": "code",
   "execution_count": 67,
   "metadata": {},
   "outputs": [
    {
     "name": "stderr",
     "output_type": "stream",
     "text": [
      "\u001b[32m\u001b[1m  Resolving\u001b[22m\u001b[39m package versions...\n",
      "\u001b[32m\u001b[1m   Updating\u001b[22m\u001b[39m `~/.julia/environments/v1.4/Project.toml`\n",
      "\u001b[90m [no changes]\u001b[39m\n",
      "\u001b[32m\u001b[1m   Updating\u001b[22m\u001b[39m `~/.julia/environments/v1.4/Manifest.toml`\n",
      "\u001b[90m [no changes]\u001b[39m\n"
     ]
    }
   ],
   "source": [
    "Pkg.add(\"DataFrames\")\n",
    "using DataFrames"
   ]
  },
  {
   "cell_type": "markdown",
   "metadata": {},
   "source": [
    "To load and use package - \"CSV\""
   ]
  },
  {
   "cell_type": "code",
   "execution_count": 68,
   "metadata": {},
   "outputs": [
    {
     "name": "stderr",
     "output_type": "stream",
     "text": [
      "\u001b[32m\u001b[1m  Resolving\u001b[22m\u001b[39m package versions...\n",
      "\u001b[32m\u001b[1m   Updating\u001b[22m\u001b[39m `~/.julia/environments/v1.4/Project.toml`\n",
      "\u001b[90m [no changes]\u001b[39m\n",
      "\u001b[32m\u001b[1m   Updating\u001b[22m\u001b[39m `~/.julia/environments/v1.4/Manifest.toml`\n",
      "\u001b[90m [no changes]\u001b[39m\n"
     ]
    }
   ],
   "source": [
    "Pkg.add(\"CSV\")\n",
    "using CSV"
   ]
  },
  {
   "cell_type": "markdown",
   "metadata": {},
   "source": [
    "I can read the files by using function CSV.read(\"file_name\")"
   ]
  },
  {
   "cell_type": "code",
   "execution_count": 69,
   "metadata": {},
   "outputs": [
    {
     "data": {
      "text/html": [
       "<table class=\"data-frame\"><thead><tr><th></th><th>variable</th><th>mean</th><th>min</th><th>median</th><th>max</th><th>nunique</th><th>nmissing</th><th>eltype</th></tr><tr><th></th><th>Symbol</th><th>Union…</th><th>Any</th><th>Union…</th><th>Any</th><th>Union…</th><th>Union…</th><th>Type</th></tr></thead><tbody><p>29 rows × 8 columns</p><tr><th>1</th><td>RECORD</td><td>6155.5</td><td>1</td><td>6155.5</td><td>12310</td><td></td><td></td><td>Int64</td></tr><tr><th>2</th><td>RECORDID</td><td>3.98201e7</td><td>1083001</td><td>1.203e7</td><td>88007036</td><td></td><td></td><td>Int64</td></tr><tr><th>3</th><td>DATE</td><td></td><td>1/01/1980</td><td></td><td>9/12/1988</td><td>1435</td><td></td><td>String</td></tr><tr><th>4</th><td>TIME</td><td></td><td>00:00:00</td><td></td><td>23:30:00</td><td>315</td><td>2</td><td>Union{Missing, Time}</td></tr><tr><th>5</th><td>LAT</td><td>-39.2204</td><td>-69.0</td><td>-38.267</td><td>-19.0</td><td></td><td>10</td><td>Union{Missing, Float64}</td></tr><tr><th>6</th><td>LONG</td><td>159.93</td><td>50.0</td><td>163.117</td><td>179.983</td><td></td><td>11</td><td>Union{Missing, Float64}</td></tr><tr><th>7</th><td>EW</td><td></td><td>E</td><td></td><td>W</td><td>2</td><td>11</td><td>Union{Missing, String}</td></tr><tr><th>8</th><td>SACT</td><td>1.37287</td><td>1</td><td>1.0</td><td>9</td><td></td><td></td><td>Int64</td></tr><tr><th>9</th><td>SPEED</td><td>12.7112</td><td>0.0</td><td>14.5</td><td>22.0</td><td></td><td>4478</td><td>Union{Missing, Float64}</td></tr><tr><th>10</th><td>SDIR</td><td>169.349</td><td>0</td><td>165.0</td><td>358</td><td></td><td>11055</td><td>Union{Missing, Int64}</td></tr><tr><th>11</th><td>CLD</td><td>1.10302</td><td>0</td><td>1.0</td><td>2</td><td></td><td>4787</td><td>Union{Missing, Int64}</td></tr><tr><th>12</th><td>PREC</td><td>0.966165</td><td>0</td><td>0.0</td><td>11</td><td></td><td>4803</td><td>Union{Missing, Int64}</td></tr><tr><th>13</th><td>WSPEED</td><td>3.73288</td><td>0</td><td>4.0</td><td>12</td><td></td><td>4688</td><td>Union{Missing, Int64}</td></tr><tr><th>14</th><td>WDIR</td><td>174.707</td><td>0</td><td>203.0</td><td>350</td><td></td><td>11018</td><td>Union{Missing, Int64}</td></tr><tr><th>15</th><td>ATMP</td><td>15.2847</td><td>0.5</td><td>15.5</td><td>24.6</td><td></td><td>11274</td><td>Union{Missing, Float64}</td></tr><tr><th>16</th><td>APRS</td><td>1014.84</td><td>991</td><td>1016.0</td><td>1040</td><td></td><td>11540</td><td>Union{Missing, Int64}</td></tr><tr><th>17</th><td>SSTE</td><td>3.55576</td><td>1</td><td>4.0</td><td>6</td><td></td><td>4751</td><td>Union{Missing, Int64}</td></tr><tr><th>18</th><td>STMP</td><td>14.7196</td><td>-1.0</td><td>15.1</td><td>27.0</td><td></td><td>11625</td><td>Union{Missing, Float64}</td></tr><tr><th>19</th><td>SAL</td><td>34.87</td><td>34.87</td><td>34.87</td><td>34.87</td><td></td><td>12309</td><td>Union{Missing, Float64}</td></tr><tr><th>20</th><td>DEPTH</td><td>380.846</td><td>60</td><td>290.0</td><td>2200</td><td></td><td>12180</td><td>Union{Missing, Int64}</td></tr><tr><th>21</th><td>OBS</td><td></td><td>BAIN</td><td></td><td>THOM</td><td>26</td><td></td><td>String</td></tr><tr><th>22</th><td>CSMETH</td><td></td><td>F</td><td></td><td>P</td><td>2</td><td></td><td>String</td></tr><tr><th>23</th><td>MONTH</td><td>6.78375</td><td>1</td><td>7.0</td><td>12</td><td></td><td></td><td>Int64</td></tr><tr><th>24</th><td>SEASN</td><td></td><td>autumn</td><td></td><td>winter</td><td>4</td><td></td><td>String</td></tr><tr><th>25</th><td>LONG360</td><td>159.981</td><td>50.0</td><td>163.117</td><td>184.417</td><td></td><td>11</td><td>Union{Missing, Float64}</td></tr><tr><th>26</th><td>LATCELL</td><td>-39.4487</td><td>-69.5</td><td>-38.5</td><td>-19.5</td><td></td><td>10</td><td>Union{Missing, Float64}</td></tr><tr><th>27</th><td>LONGECELL</td><td>160.199</td><td>50.5</td><td>163.5</td><td>184.5</td><td></td><td>11</td><td>Union{Missing, Float64}</td></tr><tr><th>28</th><td>Column28</td><td></td><td></td><td></td><td></td><td></td><td>12310</td><td>Missing</td></tr><tr><th>29</th><td>Column29</td><td></td><td></td><td></td><td></td><td></td><td>12310</td><td>Missing</td></tr></tbody></table>"
      ],
      "text/latex": [
       "\\begin{tabular}{r|cccccccc}\n",
       "\t& variable & mean & min & median & max & nunique & nmissing & eltype\\\\\n",
       "\t\\hline\n",
       "\t& Symbol & Union… & Any & Union… & Any & Union… & Union… & Type\\\\\n",
       "\t\\hline\n",
       "\t1 & RECORD & 6155.5 & 1 & 6155.5 & 12310 &  &  & Int64 \\\\\n",
       "\t2 & RECORDID & 3.98201e7 & 1083001 & 1.203e7 & 88007036 &  &  & Int64 \\\\\n",
       "\t3 & DATE &  & 1/01/1980 &  & 9/12/1988 & 1435 &  & String \\\\\n",
       "\t4 & TIME &  & 00:00:00 &  & 23:30:00 & 315 & 2 & Union\\{Missing, Time\\} \\\\\n",
       "\t5 & LAT & -39.2204 & -69.0 & -38.267 & -19.0 &  & 10 & Union\\{Missing, Float64\\} \\\\\n",
       "\t6 & LONG & 159.93 & 50.0 & 163.117 & 179.983 &  & 11 & Union\\{Missing, Float64\\} \\\\\n",
       "\t7 & EW &  & E &  & W & 2 & 11 & Union\\{Missing, String\\} \\\\\n",
       "\t8 & SACT & 1.37287 & 1 & 1.0 & 9 &  &  & Int64 \\\\\n",
       "\t9 & SPEED & 12.7112 & 0.0 & 14.5 & 22.0 &  & 4478 & Union\\{Missing, Float64\\} \\\\\n",
       "\t10 & SDIR & 169.349 & 0 & 165.0 & 358 &  & 11055 & Union\\{Missing, Int64\\} \\\\\n",
       "\t11 & CLD & 1.10302 & 0 & 1.0 & 2 &  & 4787 & Union\\{Missing, Int64\\} \\\\\n",
       "\t12 & PREC & 0.966165 & 0 & 0.0 & 11 &  & 4803 & Union\\{Missing, Int64\\} \\\\\n",
       "\t13 & WSPEED & 3.73288 & 0 & 4.0 & 12 &  & 4688 & Union\\{Missing, Int64\\} \\\\\n",
       "\t14 & WDIR & 174.707 & 0 & 203.0 & 350 &  & 11018 & Union\\{Missing, Int64\\} \\\\\n",
       "\t15 & ATMP & 15.2847 & 0.5 & 15.5 & 24.6 &  & 11274 & Union\\{Missing, Float64\\} \\\\\n",
       "\t16 & APRS & 1014.84 & 991 & 1016.0 & 1040 &  & 11540 & Union\\{Missing, Int64\\} \\\\\n",
       "\t17 & SSTE & 3.55576 & 1 & 4.0 & 6 &  & 4751 & Union\\{Missing, Int64\\} \\\\\n",
       "\t18 & STMP & 14.7196 & -1.0 & 15.1 & 27.0 &  & 11625 & Union\\{Missing, Float64\\} \\\\\n",
       "\t19 & SAL & 34.87 & 34.87 & 34.87 & 34.87 &  & 12309 & Union\\{Missing, Float64\\} \\\\\n",
       "\t20 & DEPTH & 380.846 & 60 & 290.0 & 2200 &  & 12180 & Union\\{Missing, Int64\\} \\\\\n",
       "\t21 & OBS &  & BAIN &  & THOM & 26 &  & String \\\\\n",
       "\t22 & CSMETH &  & F &  & P & 2 &  & String \\\\\n",
       "\t23 & MONTH & 6.78375 & 1 & 7.0 & 12 &  &  & Int64 \\\\\n",
       "\t24 & SEASN &  & autumn &  & winter & 4 &  & String \\\\\n",
       "\t25 & LONG360 & 159.981 & 50.0 & 163.117 & 184.417 &  & 11 & Union\\{Missing, Float64\\} \\\\\n",
       "\t26 & LATCELL & -39.4487 & -69.5 & -38.5 & -19.5 &  & 10 & Union\\{Missing, Float64\\} \\\\\n",
       "\t27 & LONGECELL & 160.199 & 50.5 & 163.5 & 184.5 &  & 11 & Union\\{Missing, Float64\\} \\\\\n",
       "\t28 & Column28 &  &  &  &  &  & 12310 & Missing \\\\\n",
       "\t29 & Column29 &  &  &  &  &  & 12310 & Missing \\\\\n",
       "\\end{tabular}\n"
      ],
      "text/plain": [
       "29×8 DataFrame. Omitted printing of 2 columns\n",
       "│ Row │ variable  │ mean      │ min       │ median  │ max       │ nunique │\n",
       "│     │ \u001b[90mSymbol\u001b[39m    │ \u001b[90mUnion…\u001b[39m    │ \u001b[90mAny\u001b[39m       │ \u001b[90mUnion…\u001b[39m  │ \u001b[90mAny\u001b[39m       │ \u001b[90mUnion…\u001b[39m  │\n",
       "├─────┼───────────┼───────────┼───────────┼─────────┼───────────┼─────────┤\n",
       "│ 1   │ RECORD    │ 6155.5    │ 1         │ 6155.5  │ 12310     │         │\n",
       "│ 2   │ RECORDID  │ 3.98201e7 │ 1083001   │ 1.203e7 │ 88007036  │         │\n",
       "│ 3   │ DATE      │           │ 1/01/1980 │         │ 9/12/1988 │ 1435    │\n",
       "│ 4   │ TIME      │           │ 00:00:00  │         │ 23:30:00  │ 315     │\n",
       "│ 5   │ LAT       │ -39.2204  │ -69.0     │ -38.267 │ -19.0     │         │\n",
       "│ 6   │ LONG      │ 159.93    │ 50.0      │ 163.117 │ 179.983   │         │\n",
       "│ 7   │ EW        │           │ E         │         │ W         │ 2       │\n",
       "│ 8   │ SACT      │ 1.37287   │ 1         │ 1.0     │ 9         │         │\n",
       "│ 9   │ SPEED     │ 12.7112   │ 0.0       │ 14.5    │ 22.0      │         │\n",
       "│ 10  │ SDIR      │ 169.349   │ 0         │ 165.0   │ 358       │         │\n",
       "⋮\n",
       "│ 19  │ SAL       │ 34.87     │ 34.87     │ 34.87   │ 34.87     │         │\n",
       "│ 20  │ DEPTH     │ 380.846   │ 60        │ 290.0   │ 2200      │         │\n",
       "│ 21  │ OBS       │           │ BAIN      │         │ THOM      │ 26      │\n",
       "│ 22  │ CSMETH    │           │ F         │         │ P         │ 2       │\n",
       "│ 23  │ MONTH     │ 6.78375   │ 1         │ 7.0     │ 12        │         │\n",
       "│ 24  │ SEASN     │           │ autumn    │         │ winter    │ 4       │\n",
       "│ 25  │ LONG360   │ 159.981   │ 50.0      │ 163.117 │ 184.417   │         │\n",
       "│ 26  │ LATCELL   │ -39.4487  │ -69.5     │ -38.5   │ -19.5     │         │\n",
       "│ 27  │ LONGECELL │ 160.199   │ 50.5      │ 163.5   │ 184.5     │         │\n",
       "│ 28  │ Column28  │           │           │         │           │         │\n",
       "│ 29  │ Column29  │           │           │         │           │         │"
      ]
     },
     "execution_count": 69,
     "metadata": {},
     "output_type": "execute_result"
    }
   ],
   "source": [
    "df_bird = CSV.read(\"Penguin_dataBird_data.csv\") \n",
    "df_ship = CSV.read(\"Penguin_dataShip_data.csv\")\n",
    "describe(df_ship)"
   ]
  },
  {
   "cell_type": "markdown",
   "metadata": {},
   "source": [
    "### Join the data (5 marks)"
   ]
  },
  {
   "cell_type": "markdown",
   "metadata": {},
   "source": [
    "Join the two dataframes into one.\n",
    "\n",
    "_hint_ there is one column being an ID: which one?"
   ]
  },
  {
   "cell_type": "markdown",
   "metadata": {},
   "source": [
    "I took RECORDID as the ID, because I can see the RECORDID exists in both files"
   ]
  },
  {
   "cell_type": "code",
   "execution_count": 70,
   "metadata": {},
   "outputs": [
    {
     "data": {
      "text/html": [
       "<table class=\"data-frame\"><thead><tr><th></th><th>RECORD</th><th>RECORDID</th><th>SpeciesCommonName</th><th>SpeciesScientificName</th></tr><tr><th></th><th>Int64</th><th>Int64</th><th>String</th><th>String?</th></tr></thead><tbody><p>49,018 rows × 55 columns (omitted printing of 51 columns)</p><tr><th>1</th><td>1</td><td>1083001</td><td>Royal / Wandering albatross</td><td>Diomedea epomophora / sanfordi / antipodensis / exulans </td></tr><tr><th>2</th><td>2</td><td>1083001</td><td>Black-browed albatross sensu lato</td><td>Diomedea impavida / melanophrys</td></tr><tr><th>3</th><td>3</td><td>1083001</td><td>Cape petrel</td><td>Daption capense </td></tr><tr><th>4</th><td>4</td><td>1083001</td><td>Fairy prion</td><td>Pachyptila turtur </td></tr><tr><th>5</th><td>5</td><td>1083001</td><td>Sooty shearwater</td><td>Puffinus griseus </td></tr><tr><th>6</th><td>6</td><td>1084001</td><td>Royal albatross sensu lato </td><td>Diomedea epomophora / sanfordi</td></tr><tr><th>7</th><td>7</td><td>1084001</td><td>Black-browed albatross sensu lato</td><td>Diomedea impavida / melanophrys</td></tr><tr><th>8</th><td>8</td><td>1084001</td><td>Sooty shearwater</td><td>Puffinus griseus </td></tr><tr><th>9</th><td>9</td><td>1084002</td><td>Royal albatross sensu lato </td><td>Diomedea epomophora / sanfordi</td></tr><tr><th>10</th><td>10</td><td>1084002</td><td>Black-browed albatross sensu lato</td><td>Diomedea impavida / melanophrys</td></tr><tr><th>11</th><td>11</td><td>1084002</td><td>Cape petrel</td><td>Daption capense </td></tr><tr><th>12</th><td>12</td><td>1084002</td><td>Prion (unidentified)</td><td>Pachyptila sp</td></tr><tr><th>13</th><td>13</td><td>1084002</td><td>Sooty shearwater</td><td>Puffinus griseus </td></tr><tr><th>14</th><td>14</td><td>1084002</td><td>Seabird (Unidentified)</td><td><em>missing</em></td></tr><tr><th>15</th><td>15</td><td>1084003</td><td>Royal albatross sensu lato </td><td>Diomedea epomophora / sanfordi</td></tr><tr><th>16</th><td>16</td><td>1084003</td><td>Black-browed albatross sensu lato</td><td>Diomedea impavida / melanophrys</td></tr><tr><th>17</th><td>17</td><td>1084003</td><td>Giant petrel sensu lato</td><td>Macronectes sp.</td></tr><tr><th>18</th><td>18</td><td>1084003</td><td>Cape petrel</td><td>Daption capense </td></tr><tr><th>19</th><td>19</td><td>1084003</td><td>Fairy prion</td><td>Pachyptila turtur </td></tr><tr><th>20</th><td>20</td><td>1086001</td><td>Fairy prion</td><td>Pachyptila turtur </td></tr><tr><th>21</th><td>21</td><td>1086001</td><td>Black petrel</td><td>Procellaria parkinsoni </td></tr><tr><th>22</th><td>22</td><td>1086001</td><td>Australasian gannet</td><td>Morus serrator </td></tr><tr><th>23</th><td>23</td><td>1086002</td><td>Wilson's storm petrel</td><td>Oceanites oceanicus </td></tr><tr><th>24</th><td>24</td><td>1086002</td><td>Australasian gannet</td><td>Morus serrator </td></tr><tr><th>25</th><td>25</td><td>1086003</td><td>Wandering albatross sensu lato AD</td><td>Diomedea antipodensis / exulans AD</td></tr><tr><th>26</th><td>26</td><td>1086003</td><td>Wandering albatross sensu lato JUV</td><td>Diomedea antipodensis / exulans JUV</td></tr><tr><th>27</th><td>27</td><td>1086003</td><td>Royal albatross sensu lato AD</td><td>Diomedea epomophora / sanfordi AD</td></tr><tr><th>28</th><td>28</td><td>1086003</td><td>Northern giant petrel</td><td>Macronectes halli </td></tr><tr><th>29</th><td>29</td><td>1086003</td><td>White-chinned petrel</td><td>Procellaria aequinoctialis </td></tr><tr><th>30</th><td>30</td><td>1086003</td><td>Sooty shearwater</td><td>Puffinus griseus </td></tr><tr><th>&vellip;</th><td>&vellip;</td><td>&vellip;</td><td>&vellip;</td><td>&vellip;</td></tr></tbody></table>"
      ],
      "text/latex": [
       "\\begin{tabular}{r|ccccc}\n",
       "\t& RECORD & RECORDID & SpeciesCommonName & SpeciesScientificName & \\\\\n",
       "\t\\hline\n",
       "\t& Int64 & Int64 & String & String? & \\\\\n",
       "\t\\hline\n",
       "\t1 & 1 & 1083001 & Royal / Wandering albatross & Diomedea epomophora / sanfordi / antipodensis / exulans  & $\\dots$ \\\\\n",
       "\t2 & 2 & 1083001 & Black-browed albatross sensu lato & Diomedea impavida / melanophrys & $\\dots$ \\\\\n",
       "\t3 & 3 & 1083001 & Cape petrel & Daption capense  & $\\dots$ \\\\\n",
       "\t4 & 4 & 1083001 & Fairy prion & Pachyptila turtur  & $\\dots$ \\\\\n",
       "\t5 & 5 & 1083001 & Sooty shearwater & Puffinus griseus  & $\\dots$ \\\\\n",
       "\t6 & 6 & 1084001 & Royal albatross sensu lato  & Diomedea epomophora / sanfordi & $\\dots$ \\\\\n",
       "\t7 & 7 & 1084001 & Black-browed albatross sensu lato & Diomedea impavida / melanophrys & $\\dots$ \\\\\n",
       "\t8 & 8 & 1084001 & Sooty shearwater & Puffinus griseus  & $\\dots$ \\\\\n",
       "\t9 & 9 & 1084002 & Royal albatross sensu lato  & Diomedea epomophora / sanfordi & $\\dots$ \\\\\n",
       "\t10 & 10 & 1084002 & Black-browed albatross sensu lato & Diomedea impavida / melanophrys & $\\dots$ \\\\\n",
       "\t11 & 11 & 1084002 & Cape petrel & Daption capense  & $\\dots$ \\\\\n",
       "\t12 & 12 & 1084002 & Prion (unidentified) & Pachyptila sp & $\\dots$ \\\\\n",
       "\t13 & 13 & 1084002 & Sooty shearwater & Puffinus griseus  & $\\dots$ \\\\\n",
       "\t14 & 14 & 1084002 & Seabird (Unidentified) & \\emph{missing} & $\\dots$ \\\\\n",
       "\t15 & 15 & 1084003 & Royal albatross sensu lato  & Diomedea epomophora / sanfordi & $\\dots$ \\\\\n",
       "\t16 & 16 & 1084003 & Black-browed albatross sensu lato & Diomedea impavida / melanophrys & $\\dots$ \\\\\n",
       "\t17 & 17 & 1084003 & Giant petrel sensu lato & Macronectes sp. & $\\dots$ \\\\\n",
       "\t18 & 18 & 1084003 & Cape petrel & Daption capense  & $\\dots$ \\\\\n",
       "\t19 & 19 & 1084003 & Fairy prion & Pachyptila turtur  & $\\dots$ \\\\\n",
       "\t20 & 20 & 1086001 & Fairy prion & Pachyptila turtur  & $\\dots$ \\\\\n",
       "\t21 & 21 & 1086001 & Black petrel & Procellaria parkinsoni  & $\\dots$ \\\\\n",
       "\t22 & 22 & 1086001 & Australasian gannet & Morus serrator  & $\\dots$ \\\\\n",
       "\t23 & 23 & 1086002 & Wilson's storm petrel & Oceanites oceanicus  & $\\dots$ \\\\\n",
       "\t24 & 24 & 1086002 & Australasian gannet & Morus serrator  & $\\dots$ \\\\\n",
       "\t25 & 25 & 1086003 & Wandering albatross sensu lato AD & Diomedea antipodensis / exulans AD & $\\dots$ \\\\\n",
       "\t26 & 26 & 1086003 & Wandering albatross sensu lato JUV & Diomedea antipodensis / exulans JUV & $\\dots$ \\\\\n",
       "\t27 & 27 & 1086003 & Royal albatross sensu lato AD & Diomedea epomophora / sanfordi AD & $\\dots$ \\\\\n",
       "\t28 & 28 & 1086003 & Northern giant petrel & Macronectes halli  & $\\dots$ \\\\\n",
       "\t29 & 29 & 1086003 & White-chinned petrel & Procellaria aequinoctialis  & $\\dots$ \\\\\n",
       "\t30 & 30 & 1086003 & Sooty shearwater & Puffinus griseus  & $\\dots$ \\\\\n",
       "\t$\\dots$ & $\\dots$ & $\\dots$ & $\\dots$ & $\\dots$ &  \\\\\n",
       "\\end{tabular}\n"
      ],
      "text/plain": [
       "49018×55 DataFrame. Omitted printing of 52 columns\n",
       "│ Row   │ RECORD │ RECORDID │ SpeciesCommonName                 │\n",
       "│       │ \u001b[90mInt64\u001b[39m  │ \u001b[90mInt64\u001b[39m    │ \u001b[90mString\u001b[39m                            │\n",
       "├───────┼────────┼──────────┼───────────────────────────────────┤\n",
       "│ 1     │ 1      │ 1083001  │ Royal / Wandering albatross       │\n",
       "│ 2     │ 2      │ 1083001  │ Black-browed albatross sensu lato │\n",
       "│ 3     │ 3      │ 1083001  │ Cape petrel                       │\n",
       "│ 4     │ 4      │ 1083001  │ Fairy prion                       │\n",
       "│ 5     │ 5      │ 1083001  │ Sooty shearwater                  │\n",
       "│ 6     │ 6      │ 1084001  │ Royal albatross sensu lato        │\n",
       "│ 7     │ 7      │ 1084001  │ Black-browed albatross sensu lato │\n",
       "│ 8     │ 8      │ 1084001  │ Sooty shearwater                  │\n",
       "│ 9     │ 9      │ 1084002  │ Royal albatross sensu lato        │\n",
       "│ 10    │ 10     │ 1084002  │ Black-browed albatross sensu lato │\n",
       "⋮\n",
       "│ 49008 │ 49009  │ 88007034 │ Southern black-backed gull AD     │\n",
       "│ 49009 │ 49010  │ 88007034 │ Southern black-backed gull SUBAD  │\n",
       "│ 49010 │ 49011  │ 88007034 │ Red-billed gull                   │\n",
       "│ 49011 │ 49012  │ 88007035 │ Australasian gannet AD            │\n",
       "│ 49012 │ 49013  │ 88007035 │ Southern black-backed gull AD     │\n",
       "│ 49013 │ 49014  │ 88007035 │ Southern black-backed gull SUBAD  │\n",
       "│ 49014 │ 49015  │ 88007035 │ Red-billed gull                   │\n",
       "│ 49015 │ 49016  │ 88007036 │ Southern black-backed gull AD     │\n",
       "│ 49016 │ 49017  │ 88007036 │ Southern black-backed gull SUBAD  │\n",
       "│ 49017 │ 49018  │ 88007036 │ Red-billed gull                   │\n",
       "│ 49018 │ 49019  │ 88007036 │ White-fronted tern                │"
      ]
     },
     "execution_count": 70,
     "metadata": {},
     "output_type": "execute_result"
    }
   ],
   "source": [
    "df_joined = join(df_bird, df_ship, on=:RECORDID, kind=:inner, makeunique=true)\n"
   ]
  },
  {
   "cell_type": "markdown",
   "metadata": {},
   "source": [
    "### Question 1 (10 marks)"
   ]
  },
  {
   "cell_type": "markdown",
   "metadata": {},
   "source": [
    "In which season would say we see more Little penguins?\n",
    "\n",
    "_hint_ their scientific name is _Eudyptula minor_ and their Species abbreviation is \"EUDMIN\".\n",
    "\n",
    "_hint_ you may want to use the package `Query.jl`."
   ]
  },
  {
   "cell_type": "markdown",
   "metadata": {},
   "source": [
    "To load and use package - \"DataFrames\"\n",
    "I will use group_by() function later. "
   ]
  },
  {
   "cell_type": "code",
   "execution_count": 71,
   "metadata": {},
   "outputs": [
    {
     "name": "stderr",
     "output_type": "stream",
     "text": [
      "\u001b[32m\u001b[1m  Resolving\u001b[22m\u001b[39m package versions...\n",
      "\u001b[32m\u001b[1m   Updating\u001b[22m\u001b[39m `~/.julia/environments/v1.4/Project.toml`\n",
      "\u001b[90m [no changes]\u001b[39m\n",
      "\u001b[32m\u001b[1m   Updating\u001b[22m\u001b[39m `~/.julia/environments/v1.4/Manifest.toml`\n",
      "\u001b[90m [no changes]\u001b[39m\n"
     ]
    }
   ],
   "source": [
    "Pkg.add(\"Query\")\n",
    "using Query\n",
    "using DataFrames\n",
    "using Dates"
   ]
  },
  {
   "cell_type": "markdown",
   "metadata": {},
   "source": [
    "To find out which season can see more Little penguin;\n",
    "\n",
    "Steps: I filter out the little penguin first, and then group the information by season. And then I use season as the key in map function. In order to get how many times Little penguin show in the season, I use length(). "
   ]
  },
  {
   "cell_type": "code",
   "execution_count": 72,
   "metadata": {},
   "outputs": [
    {
     "data": {
      "application/vnd.dataresource+json": {
       "data": [
        {
         "Count": 10,
         "Key": "summer"
        },
        {
         "Count": 17,
         "Key": "autumn"
        },
        {
         "Count": 12,
         "Key": "winter"
        },
        {
         "Count": 2,
         "Key": "spring"
        }
       ],
       "schema": {
        "fields": [
         {
          "name": "Key",
          "type": "string"
         },
         {
          "name": "Count",
          "type": "integer"
         }
        ]
       }
      },
      "text/html": [
       "<table><thead><tr><th>Key</th><th>Count</th></tr></thead><tbody><tr><td>&quot;summer&quot;</td><td>10</td></tr><tr><td>&quot;autumn&quot;</td><td>17</td></tr><tr><td>&quot;winter&quot;</td><td>12</td></tr><tr><td>&quot;spring&quot;</td><td>2</td></tr></tbody></table>"
      ],
      "text/plain": [
       "4x2 query result\n",
       "Key    │ Count\n",
       "───────┼──────\n",
       "summer │ 10   \n",
       "autumn │ 17   \n",
       "winter │ 12   \n",
       "spring │ 2    "
      ]
     },
     "execution_count": 72,
     "metadata": {},
     "output_type": "execute_result"
    }
   ],
   "source": [
    "\n",
    "x = df_joined |> \n",
    "    DataFrame |>\n",
    "    @filter(_.SpeciesCommonName .== \"Little penguin\") |> \n",
    "    @groupby(_.SEASN) |>\n",
    "    @map({Key=key(_),Count = length(_)}) \n",
    "    \n",
    "x"
   ]
  },
  {
   "cell_type": "markdown",
   "metadata": {},
   "source": [
    "### Question 2 (10 marks)"
   ]
  },
  {
   "cell_type": "markdown",
   "metadata": {},
   "source": [
    "How does the sighting of penguins (not just Little penguins, but all penguins species) change by year? Make a plot to show it."
   ]
  },
  {
   "cell_type": "code",
   "execution_count": 73,
   "metadata": {},
   "outputs": [
    {
     "name": "stderr",
     "output_type": "stream",
     "text": [
      "\u001b[32m\u001b[1m  Resolving\u001b[22m\u001b[39m package versions...\n",
      "\u001b[32m\u001b[1m   Updating\u001b[22m\u001b[39m `~/.julia/environments/v1.4/Project.toml`\n",
      "\u001b[90m [no changes]\u001b[39m\n",
      "\u001b[32m\u001b[1m   Updating\u001b[22m\u001b[39m `~/.julia/environments/v1.4/Manifest.toml`\n",
      "\u001b[90m [no changes]\u001b[39m\n"
     ]
    }
   ],
   "source": [
    "Pkg.add(\"VegaLite\")\n",
    "using VegaLite"
   ]
  },
  {
   "cell_type": "markdown",
   "metadata": {},
   "source": [
    "I have created a function for sperate string (date). \n",
    "I have used split() and if() functions. \n",
    "Divide date by \"/\". If it has 3 parts, DD/MM/YY, the function will return the 3rd part (4 digits)"
   ]
  },
  {
   "cell_type": "code",
   "execution_count": 74,
   "metadata": {},
   "outputs": [
    {
     "data": {
      "text/plain": [
       "getYearFromDate (generic function with 1 method)"
      ]
     },
     "execution_count": 74,
     "metadata": {},
     "output_type": "execute_result"
    }
   ],
   "source": [
    "function getYearFromDate(s)\n",
    "    parts = split(string(s), \"/\") \n",
    "    if (length(parts) > 2)\n",
    "        return parts[3][1:4]\n",
    "    end\n",
    "    return \"\"\n",
    "end"
   ]
  },
  {
   "cell_type": "markdown",
   "metadata": {},
   "source": [
    "1st step: I would like to filter out penguin, because in SpeciesCommonName column has other kinds of birds. \n",
    "2nd step: once penguins have been selected out, I cut out other columns, and only keep date and name.\n",
    "3rd step: date will go to function that I created before, and convert to Year. \n",
    "4th step: use year as the key, and use length() function to tell how many times the penguins have shown in the date - year. "
   ]
  },
  {
   "cell_type": "code",
   "execution_count": 75,
   "metadata": {},
   "outputs": [
    {
     "data": {
      "text/html": [
       "<table class=\"data-frame\"><thead><tr><th></th><th>Key</th><th>Count</th></tr><tr><th></th><th>Any</th><th>Any</th></tr></thead><tbody><p>14 rows × 2 columns</p><tr><th>1</th><td>1976</td><td>1</td></tr><tr><th>2</th><td>1977</td><td>2</td></tr><tr><th>3</th><td>1978</td><td>18</td></tr><tr><th>4</th><td>1979</td><td>4</td></tr><tr><th>5</th><td>1980</td><td>2</td></tr><tr><th>6</th><td>1981</td><td>2</td></tr><tr><th>7</th><td>1982</td><td>4</td></tr><tr><th>8</th><td>1983</td><td>4</td></tr><tr><th>9</th><td>1984</td><td>6</td></tr><tr><th>10</th><td>1985</td><td>10</td></tr><tr><th>11</th><td>1986</td><td>5</td></tr><tr><th>12</th><td>1987</td><td>5</td></tr><tr><th>13</th><td>1988</td><td>4</td></tr><tr><th>14</th><td>1969</td><td>3</td></tr></tbody></table>"
      ],
      "text/latex": [
       "\\begin{tabular}{r|cc}\n",
       "\t& Key & Count\\\\\n",
       "\t\\hline\n",
       "\t& Any & Any\\\\\n",
       "\t\\hline\n",
       "\t1 & 1976 & 1 \\\\\n",
       "\t2 & 1977 & 2 \\\\\n",
       "\t3 & 1978 & 18 \\\\\n",
       "\t4 & 1979 & 4 \\\\\n",
       "\t5 & 1980 & 2 \\\\\n",
       "\t6 & 1981 & 2 \\\\\n",
       "\t7 & 1982 & 4 \\\\\n",
       "\t8 & 1983 & 4 \\\\\n",
       "\t9 & 1984 & 6 \\\\\n",
       "\t10 & 1985 & 10 \\\\\n",
       "\t11 & 1986 & 5 \\\\\n",
       "\t12 & 1987 & 5 \\\\\n",
       "\t13 & 1988 & 4 \\\\\n",
       "\t14 & 1969 & 3 \\\\\n",
       "\\end{tabular}\n"
      ],
      "text/plain": [
       "14×2 DataFrame\n",
       "│ Row │ Key  │ Count │\n",
       "│     │ \u001b[90mAny\u001b[39m  │ \u001b[90mAny\u001b[39m   │\n",
       "├─────┼──────┼───────┤\n",
       "│ 1   │ 1976 │ 1     │\n",
       "│ 2   │ 1977 │ 2     │\n",
       "│ 3   │ 1978 │ 18    │\n",
       "│ 4   │ 1979 │ 4     │\n",
       "│ 5   │ 1980 │ 2     │\n",
       "│ 6   │ 1981 │ 2     │\n",
       "│ 7   │ 1982 │ 4     │\n",
       "│ 8   │ 1983 │ 4     │\n",
       "│ 9   │ 1984 │ 6     │\n",
       "│ 10  │ 1985 │ 10    │\n",
       "│ 11  │ 1986 │ 5     │\n",
       "│ 12  │ 1987 │ 5     │\n",
       "│ 13  │ 1988 │ 4     │\n",
       "│ 14  │ 1969 │ 3     │"
      ]
     },
     "execution_count": 75,
     "metadata": {},
     "output_type": "execute_result"
    }
   ],
   "source": [
    "df_sightingsByYear = df_joined |> \n",
    "    @filter( occursin(\"penguin\", lowercase(string(_.SpeciesCommonName)))==true) |> \n",
    "    @map(row -> { Name = row.SpeciesCommonName, Year = getYearFromDate(row.DATE)}) |> \n",
    "    @groupby(row -> row.Year) |> \n",
    "    @map({Key=key(_), Count=length(_)}) |>\n",
    "    DataFrame "
   ]
  },
  {
   "cell_type": "markdown",
   "metadata": {},
   "source": [
    "Create a plot by using vlplot(), xlab designed for Year is ordinal, and ylab tells the number of penguins (quantitative).\n",
    "    And the plot type is line becuase I feel it will more clear to use this. "
   ]
  },
  {
   "cell_type": "code",
   "execution_count": 76,
   "metadata": {},
   "outputs": [
    {
     "data": {
      "application/vnd.vegalite.v4+json": {
       "data": {
        "values": [
         {
          "Count": 1,
          "Key": "1976"
         },
         {
          "Count": 2,
          "Key": "1977"
         },
         {
          "Count": 18,
          "Key": "1978"
         },
         {
          "Count": 4,
          "Key": "1979"
         },
         {
          "Count": 2,
          "Key": "1980"
         },
         {
          "Count": 2,
          "Key": "1981"
         },
         {
          "Count": 4,
          "Key": "1982"
         },
         {
          "Count": 4,
          "Key": "1983"
         },
         {
          "Count": 6,
          "Key": "1984"
         },
         {
          "Count": 10,
          "Key": "1985"
         },
         {
          "Count": 5,
          "Key": "1986"
         },
         {
          "Count": 5,
          "Key": "1987"
         },
         {
          "Count": 4,
          "Key": "1988"
         },
         {
          "Count": 3,
          "Key": "1969"
         }
        ]
       },
       "encoding": {
        "x": {
         "field": "Key",
         "type": "ordinal"
        },
        "y": {
         "field": "Count",
         "type": "quantitative"
        }
       },
       "mark": "line"
      },
      "image/png": "[encoded data removed]",
      "image/svg+xml": [
       "<?xml version=\"1.0\" encoding=\"utf-8\"?>\n",
       "<!DOCTYPE svg PUBLIC \"-//W3C//DTD SVG 1.1//EN\" \"http://www.w3.org/Graphics/SVG/1.1/DTD/svg11.dtd\">\n",
       "<svg class=\"marks\" width=\"324\" height=\"258\" viewBox=\"0 0 324 258\" version=\"1.1\" xmlns=\"http://www.w3.org/2000/svg\" xmlns:xlink=\"http://www.w3.org/1999/xlink\"><rect width=\"324\" height=\"258\" fill=\"white\"></rect><g fill=\"none\" stroke-miterlimit=\"10\" transform=\"translate(39,7)\"><g class=\"mark-group role-frame root\" role=\"graphics-object\" aria-roledescription=\"group mark container\"><g transform=\"translate(0,0)\"><path class=\"background\" aria-hidden=\"true\" d=\"M0.5,0.5h280v200h-280Z\" stroke=\"#ddd\"></path><g><g class=\"mark-group role-axis\" aria-hidden=\"true\"><g transform=\"translate(0.5,0.5)\"><path class=\"background\" aria-hidden=\"true\" d=\"M0,0h0v0h0Z\" pointer-events=\"none\"></path><g><g class=\"mark-rule role-axis-grid\" pointer-events=\"none\"><line transform=\"translate(0,200)\" x2=\"280\" y2=\"0\" stroke=\"#ddd\" stroke-width=\"1\" opacity=\"1\"></line><line transform=\"translate(0,144)\" x2=\"280\" y2=\"0\" stroke=\"#ddd\" stroke-width=\"1\" opacity=\"1\"></line><line transform=\"translate(0,89)\" x2=\"280\" y2=\"0\" stroke=\"#ddd\" stroke-width=\"1\" opacity=\"1\"></line><line transform=\"translate(0,33)\" x2=\"280\" y2=\"0\" stroke=\"#ddd\" stroke-width=\"1\" opacity=\"1\"></line></g></g><path class=\"foreground\" aria-hidden=\"true\" d=\"\" pointer-events=\"none\" display=\"none\"></path></g></g><g class=\"mark-group role-axis\" role=\"graphics-symbol\" aria-roledescription=\"axis\" aria-label=\"X-axis titled 'Key' for a discrete scale with 14 values: 1969, 1976, 1977, 1978, 1979, ending with 1988\"><g transform=\"translate(0.5,200.5)\"><path class=\"background\" aria-hidden=\"true\" d=\"M0,0h0v0h0Z\" pointer-events=\"none\"></path><g><g class=\"mark-rule role-axis-tick\" pointer-events=\"none\"><line transform=\"translate(10,0)\" x2=\"0\" y2=\"5\" stroke=\"#888\" stroke-width=\"1\" opacity=\"1\"></line><line transform=\"translate(30,0)\" x2=\"0\" y2=\"5\" stroke=\"#888\" stroke-width=\"1\" opacity=\"1\"></line><line transform=\"translate(50,0)\" x2=\"0\" y2=\"5\" stroke=\"#888\" stroke-width=\"1\" opacity=\"1\"></line><line transform=\"translate(70,0)\" x2=\"0\" y2=\"5\" stroke=\"#888\" stroke-width=\"1\" opacity=\"1\"></line><line transform=\"translate(90,0)\" x2=\"0\" y2=\"5\" stroke=\"#888\" stroke-width=\"1\" opacity=\"1\"></line><line transform=\"translate(110,0)\" x2=\"0\" y2=\"5\" stroke=\"#888\" stroke-width=\"1\" opacity=\"1\"></line><line transform=\"translate(130,0)\" x2=\"0\" y2=\"5\" stroke=\"#888\" stroke-width=\"1\" opacity=\"1\"></line><line transform=\"translate(150,0)\" x2=\"0\" y2=\"5\" stroke=\"#888\" stroke-width=\"1\" opacity=\"1\"></line><line transform=\"translate(170,0)\" x2=\"0\" y2=\"5\" stroke=\"#888\" stroke-width=\"1\" opacity=\"1\"></line><line transform=\"translate(190,0)\" x2=\"0\" y2=\"5\" stroke=\"#888\" stroke-width=\"1\" opacity=\"1\"></line><line transform=\"translate(210,0)\" x2=\"0\" y2=\"5\" stroke=\"#888\" stroke-width=\"1\" opacity=\"1\"></line><line transform=\"translate(230,0)\" x2=\"0\" y2=\"5\" stroke=\"#888\" stroke-width=\"1\" opacity=\"1\"></line><line transform=\"translate(250,0)\" x2=\"0\" y2=\"5\" stroke=\"#888\" stroke-width=\"1\" opacity=\"1\"></line><line transform=\"translate(270,0)\" x2=\"0\" y2=\"5\" stroke=\"#888\" stroke-width=\"1\" opacity=\"1\"></line></g><g class=\"mark-text role-axis-label\" pointer-events=\"none\"><text text-anchor=\"end\" transform=\"translate(10,7) rotate(270) translate(0,3)\" font-family=\"sans-serif\" font-size=\"10px\" fill=\"#000\" opacity=\"1\">1969</text><text text-anchor=\"end\" transform=\"translate(30,7) rotate(270) translate(0,3)\" font-family=\"sans-serif\" font-size=\"10px\" fill=\"#000\" opacity=\"1\">1976</text><text text-anchor=\"end\" transform=\"translate(50,7) rotate(270) translate(0,3)\" font-family=\"sans-serif\" font-size=\"10px\" fill=\"#000\" opacity=\"1\">1977</text><text text-anchor=\"end\" transform=\"translate(70,7) rotate(270) translate(0,3)\" font-family=\"sans-serif\" font-size=\"10px\" fill=\"#000\" opacity=\"1\">1978</text><text text-anchor=\"end\" transform=\"translate(90,7) rotate(270) translate(0,3)\" font-family=\"sans-serif\" font-size=\"10px\" fill=\"#000\" opacity=\"1\">1979</text><text text-anchor=\"end\" transform=\"translate(110,7) rotate(270) translate(0,3)\" font-family=\"sans-serif\" font-size=\"10px\" fill=\"#000\" opacity=\"1\">1980</text><text text-anchor=\"end\" transform=\"translate(130,7) rotate(270) translate(0,3)\" font-family=\"sans-serif\" font-size=\"10px\" fill=\"#000\" opacity=\"1\">1981</text><text text-anchor=\"end\" transform=\"translate(150,7) rotate(270) translate(0,3)\" font-family=\"sans-serif\" font-size=\"10px\" fill=\"#000\" opacity=\"1\">1982</text><text text-anchor=\"end\" transform=\"translate(170,7) rotate(270) translate(0,3)\" font-family=\"sans-serif\" font-size=\"10px\" fill=\"#000\" opacity=\"1\">1983</text><text text-anchor=\"end\" transform=\"translate(190,7) rotate(270) translate(0,3)\" font-family=\"sans-serif\" font-size=\"10px\" fill=\"#000\" opacity=\"1\">1984</text><text text-anchor=\"end\" transform=\"translate(210,7) rotate(270) translate(0,3)\" font-family=\"sans-serif\" font-size=\"10px\" fill=\"#000\" opacity=\"1\">1985</text><text text-anchor=\"end\" transform=\"translate(230,7) rotate(270) translate(0,3)\" font-family=\"sans-serif\" font-size=\"10px\" fill=\"#000\" opacity=\"1\">1986</text><text text-anchor=\"end\" transform=\"translate(250,7) rotate(270) translate(0,3)\" font-family=\"sans-serif\" font-size=\"10px\" fill=\"#000\" opacity=\"1\">1987</text><text text-anchor=\"end\" transform=\"translate(270,7) rotate(270) translate(0,3)\" font-family=\"sans-serif\" font-size=\"10px\" fill=\"#000\" opacity=\"1\">1988</text></g><g class=\"mark-rule role-axis-domain\" pointer-events=\"none\"><line transform=\"translate(0,0)\" x2=\"280\" y2=\"0\" stroke=\"#888\" stroke-width=\"1\" opacity=\"1\"></line></g><g class=\"mark-text role-axis-title\" pointer-events=\"none\"><text text-anchor=\"middle\" transform=\"translate(140,44)\" font-family=\"sans-serif\" font-size=\"11px\" font-weight=\"bold\" fill=\"#000\" opacity=\"1\">Key</text></g></g><path class=\"foreground\" aria-hidden=\"true\" d=\"\" pointer-events=\"none\" display=\"none\"></path></g></g><g class=\"mark-group role-axis\" role=\"graphics-symbol\" aria-roledescription=\"axis\" aria-label=\"Y-axis titled 'Count' for a linear scale with values from 0 to 18\"><g transform=\"translate(0.5,0.5)\"><path class=\"background\" aria-hidden=\"true\" d=\"M0,0h0v0h0Z\" pointer-events=\"none\"></path><g><g class=\"mark-rule role-axis-tick\" pointer-events=\"none\"><line transform=\"translate(0,200)\" x2=\"-5\" y2=\"0\" stroke=\"#888\" stroke-width=\"1\" opacity=\"1\"></line><line transform=\"translate(0,144)\" x2=\"-5\" y2=\"0\" stroke=\"#888\" stroke-width=\"1\" opacity=\"1\"></line><line transform=\"translate(0,89)\" x2=\"-5\" y2=\"0\" stroke=\"#888\" stroke-width=\"1\" opacity=\"1\"></line><line transform=\"translate(0,33)\" x2=\"-5\" y2=\"0\" stroke=\"#888\" stroke-width=\"1\" opacity=\"1\"></line></g><g class=\"mark-text role-axis-label\" pointer-events=\"none\"><text text-anchor=\"end\" transform=\"translate(-7,203)\" font-family=\"sans-serif\" font-size=\"10px\" fill=\"#000\" opacity=\"1\">0</text><text text-anchor=\"end\" transform=\"translate(-7,147.44444444444443)\" font-family=\"sans-serif\" font-size=\"10px\" fill=\"#000\" opacity=\"1\">5</text><text text-anchor=\"end\" transform=\"translate(-7,91.88888888888889)\" font-family=\"sans-serif\" font-size=\"10px\" fill=\"#000\" opacity=\"1\">10</text><text text-anchor=\"end\" transform=\"translate(-7,36.33333333333333)\" font-family=\"sans-serif\" font-size=\"10px\" fill=\"#000\" opacity=\"1\">15</text></g><g class=\"mark-rule role-axis-domain\" pointer-events=\"none\"><line transform=\"translate(0,200)\" x2=\"0\" y2=\"-200\" stroke=\"#888\" stroke-width=\"1\" opacity=\"1\"></line></g><g class=\"mark-text role-axis-title\" pointer-events=\"none\"><text text-anchor=\"middle\" transform=\"translate(-23,100) rotate(-90) translate(0,-2)\" font-family=\"sans-serif\" font-size=\"11px\" font-weight=\"bold\" fill=\"#000\" opacity=\"1\">Count</text></g></g><path class=\"foreground\" aria-hidden=\"true\" d=\"\" pointer-events=\"none\" display=\"none\"></path></g></g><g class=\"mark-line role-mark marks\" role=\"graphics-object\" aria-roledescription=\"line mark container\"><path aria-label=\"Key: 1969; Count: 3\" role=\"graphics-symbol\" aria-roledescription=\"line mark\" d=\"M10,166.66666666666669L30,188.88888888888889L50,177.77777777777777L70,0L90,155.55555555555557L110,177.77777777777777L130,177.77777777777777L150,155.55555555555557L170,155.55555555555557L190,133.33333333333334L210,88.88888888888889L230,144.44444444444443L250,144.44444444444443L270,155.55555555555557\" stroke=\"#4c78a8\" stroke-width=\"2\"></path></g></g><path class=\"foreground\" aria-hidden=\"true\" d=\"\" display=\"none\"></path></g></g></g></svg>\n"
      ],
      "text/plain": [
       "@vlplot(\n",
       "    mark=\"line\",\n",
       "    encoding={\n",
       "        x={\n",
       "            field=\"Key\",\n",
       "            type=\"ordinal\"\n",
       "        },\n",
       "        y={\n",
       "            field=\"Count\",\n",
       "            type=\"quantitative\"\n",
       "        }\n",
       "    },\n",
       "    data={\n",
       "        values=...\n",
       "    }\n",
       ")"
      ]
     },
     "execution_count": 76,
     "metadata": {},
     "output_type": "execute_result"
    }
   ],
   "source": [
    "df_sightingsByYear |> \n",
    "    @vlplot(:line, \n",
    "        x = {field=:Key, type=:ordinal}, \n",
    "        y = {field=:Count, type=:quantitative})"
   ]
  }
 ],
 "metadata": {
  "kernelspec": {
   "display_name": "Julia 1.4.2",
   "language": "julia",
   "name": "julia-1.4"
  },
  "language_info": {
   "file_extension": ".jl",
   "mimetype": "application/julia",
   "name": "julia",
   "version": "1.4.2"
  }
 },
 "nbformat": 4,
 "nbformat_minor": 4
}
