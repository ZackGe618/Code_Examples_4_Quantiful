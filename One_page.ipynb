{
 "cells": [
  {
   "cell_type": "code",
   "execution_count": 1,
   "metadata": {},
   "outputs": [],
   "source": [
    "import requests\n",
    "from bs4 import BeautifulSoup"
   ]
  },
  {
   "cell_type": "code",
   "execution_count": 2,
   "metadata": {},
   "outputs": [],
   "source": [
    "def get_page_urls_array(link, maxpage):\n",
    "    \"\"\"in order to get the url list of each page\"\"\"\n",
    "    pagination = 101\n",
    "    results =[]\n",
    "    results.append(link)\n",
    "    while pagination <= maxpage:\n",
    "        following_link = link + '/' + str(pagination)\n",
    "        results.append(following_link)\n",
    "        pagination += 100\n",
    "    return results"
   ]
  },
  {
   "cell_type": "code",
   "execution_count": 3,
   "metadata": {},
   "outputs": [],
   "source": [
    "def get_html(page_url):\n",
    "    \"\"\"to get the html format for each page\"\"\"\n",
    "    response = requests.get(page_url)\n",
    "    return response.text"
   ]
  },
  {
   "cell_type": "code",
   "execution_count": 4,
   "metadata": {},
   "outputs": [],
   "source": [
    "def get_BoxOffice_ranking(urls, column_num):\n",
    "    \"\"\"use page urls - loop url in it - call get_html function to get the html for each page, and then extract the wated data from the html\"\"\"\n",
    "    results = []\n",
    "    for url in urls:\n",
    "        raw_html = get_html(url) # this gives us html of a page \n",
    "        parsed_html = BeautifulSoup(raw_html, \"html.parser\")\n",
    "        rows = parsed_html.select('center table tr')\n",
    "        ths = rows[0].select('th')\n",
    "        column_0 = ths[0].get_text()\n",
    "        column_1 = ths[1].get_text()\n",
    "        column_2_1 = ths[2].get_text()\n",
    "        column_2_2 = ths[2].get_text() + \"_href\"\n",
    "        column_3 = ths[3].get_text()\n",
    "        column_4 = ths[4].get_text()\n",
    "        column_5 = ths[5].get_text()\n",
    "        if column_num > 6:\n",
    "            column_6 = ths[6].get_text()\n",
    "\n",
    "        for row in rows:\n",
    "            #print('row is ', row)\n",
    "            tds = row.select('td')\n",
    "            if (len(tds) > 0):\n",
    "                result = {}\n",
    "                result[column_0] = tds[0].get_text()\n",
    "                result[column_1] = tds[1].get_text()\n",
    "                result[column_2_1] = tds[2].get_text()\n",
    "                result[column_2_2] = tds[2].find(\"a\")['href']\n",
    "                result[column_3] = tds[3].get_text()\n",
    "                result[column_4] = tds[4].get_text()\n",
    "                result[column_5] = tds[5].get_text()\n",
    "                if column_num > 6:\n",
    "                    result[column_6] = tds[6].get_text()      \n",
    "                results.append(result)\n",
    "    return results"
   ]
  },
  {
   "cell_type": "code",
   "execution_count": 457,
   "metadata": {},
   "outputs": [
    {
     "name": "stdout",
     "output_type": "stream",
     "text": [
      "['https://www.the-numbers.com/box-office-records/domestic/all-movies/cumulative/all-time']\n"
     ]
    }
   ],
   "source": [
    "Boxoffice_first_link = \"https://www.the-numbers.com/box-office-records/domestic/all-movies/cumulative/all-time\"\n",
    "total_pages_BO = 16901\n",
    "all_Boxoffice_links = get_page_urls_array(Boxoffice_first_link,total_pages_BO)\n",
    "#print(all_links)\n",
    "test_Boxoffice_links = all_Boxoffice_links[0:1]\n",
    "print(test_Boxoffice_links)\n",
    "#这里拿到了3个links。我们做测试"
   ]
  },
  {
   "cell_type": "code",
   "execution_count": 458,
   "metadata": {},
   "outputs": [],
   "source": [
    "column_num = 7\n",
    "boxOffice_result = get_BoxOffice_ranking(test_Boxoffice_links, column_num)"
   ]
  },
  {
   "cell_type": "code",
   "execution_count": 9,
   "metadata": {},
   "outputs": [
    {
     "data": {
      "text/plain": [
       "'https://www.the-numbers.com/box-office-records/domestic/all-movies/cumulative/all-time'"
      ]
     },
     "execution_count": 9,
     "metadata": {},
     "output_type": "execute_result"
    }
   ],
   "source": [
    "test_Boxoffice_links[0]"
   ]
  },
  {
   "cell_type": "code",
   "execution_count": null,
   "metadata": {},
   "outputs": [],
   "source": []
  },
  {
   "cell_type": "code",
   "execution_count": 10,
   "metadata": {},
   "outputs": [
    {
     "name": "stdout",
     "output_type": "stream",
     "text": [
      "['https://www.the-numbers.com/movie/budgets/all']\n"
     ]
    }
   ],
   "source": [
    "Budget_first_link = \"https://www.the-numbers.com/movie/budgets/all\"\n",
    "total_pages_BG = 6065\n",
    "all_Budget_links = get_page_urls_array(Budget_first_link,total_pages_BG)\n",
    "#print(all_Budget_links)\n",
    "test_Budget_links = all_Budget_links[0:1]\n",
    "print(test_Budget_links)\n",
    "#这里拿到了3个links。我们做测试"
   ]
  },
  {
   "cell_type": "code",
   "execution_count": 11,
   "metadata": {},
   "outputs": [],
   "source": [
    "column_num = 6\n",
    "budget_result = get_BoxOffice_ranking(test_Budget_links, column_num)"
   ]
  },
  {
   "cell_type": "code",
   "execution_count": 440,
   "metadata": {},
   "outputs": [
    {
     "data": {
      "text/plain": [
       "{'\\xa0': '1',\n",
       " 'ReleaseDate': 'Apr 23, 2019',\n",
       " 'Movie': 'Avengers: Endgame',\n",
       " 'Movie_href': '/movie/Avengers-Endgame-(2019)#tab=summary',\n",
       " 'ProductionBudget': '\\xa0$400,000,000',\n",
       " 'DomesticGross': '\\xa0$858,373,000',\n",
       " 'WorldwideGross': '\\xa0$2,797,800,564'}"
      ]
     },
     "execution_count": 440,
     "metadata": {},
     "output_type": "execute_result"
    }
   ],
   "source": [
    "budget_result[0]"
   ]
  },
  {
   "cell_type": "code",
   "execution_count": 474,
   "metadata": {},
   "outputs": [],
   "source": [
    "def get_csv_header(dict_list):\n",
    "    header= list(dict_list[0].keys())\n",
    "    for item in dict_list:\n",
    "        for key in item.keys():\n",
    "            if key not in header:\n",
    "                header.append(key)\n",
    "    return header"
   ]
  },
  {
   "cell_type": "code",
   "execution_count": 475,
   "metadata": {},
   "outputs": [],
   "source": [
    "def create_csv(filename, dict_list, header):\n",
    "    f = open(filename,'w',encoding='utf-8')\n",
    "    with f:\n",
    "        writer = csv.DictWriter(f, fieldnames=header)\n",
    "        writer.writeheader()\n",
    "        for i in range(len(dict_list)):\n",
    "            writer.writerow(dict_list[i])\n",
    "    f.close()"
   ]
  },
  {
   "cell_type": "code",
   "execution_count": null,
   "metadata": {},
   "outputs": [],
   "source": []
  },
  {
   "cell_type": "code",
   "execution_count": 476,
   "metadata": {},
   "outputs": [],
   "source": [
    "boxoffice_csv_header=get_csv_header(boxOffice_result)\n",
    "create_csv(\"test_boxoffice.csv\", boxOffice_result, boxoffice_csv_header)"
   ]
  },
  {
   "cell_type": "code",
   "execution_count": 477,
   "metadata": {},
   "outputs": [],
   "source": [
    "budget_csv_header=get_csv_header(budget_result)\n",
    "create_csv(\"test_budget.csv\", budget_result, budget_csv_header)"
   ]
  },
  {
   "cell_type": "code",
   "execution_count": null,
   "metadata": {},
   "outputs": [],
   "source": []
  },
  {
   "cell_type": "code",
   "execution_count": 479,
   "metadata": {},
   "outputs": [
    {
     "data": {
      "text/plain": [
       "['https://www.the-numbers.com/movie/Star-Wars-Ep-VII-The-Force-Awakens#tab=summary',\n",
       " 'https://www.the-numbers.com/movie/Avengers-Endgame-(2019)#tab=summary',\n",
       " 'https://www.the-numbers.com/movie/Avatar#tab=summary',\n",
       " 'https://www.the-numbers.com/movie/Black-Panther#tab=summary',\n",
       " 'https://www.the-numbers.com/movie/Avengers-Infinity-War#tab=summary']"
      ]
     },
     "execution_count": 479,
     "metadata": {},
     "output_type": "execute_result"
    }
   ],
   "source": [
    "def get_genres_box_links(boxOffice_result):\n",
    "    genres_links = []\n",
    "    for infor in boxOffice_result:\n",
    "        link = \"https://www.the-numbers.com\" + infor[\"Movie_href\"]\n",
    "        genres_links.append(link)\n",
    "    return genres_links\n",
    "\n",
    "genres_links = get_genres_box_links(boxOffice_result)\n",
    "genres_links[0:5]"
   ]
  },
  {
   "cell_type": "code",
   "execution_count": 580,
   "metadata": {},
   "outputs": [
    {
     "name": "stdout",
     "output_type": "stream",
     "text": [
      "[{'href': 'h', 'Domestic Releases:': 'July 1st, 2016 (Limited) by Magnolia Pictures', 'International Releases:': 'June 26th, 2015 (Wide) (South Korea)\\nSeptember 2nd, 2016 (Wide) (Argentina)\\nApril 7th, 2017 (Wide), released as Å\\x9eeytani (Turkey)\\n', 'Video\\xa0Release:': 'October 4th, 2016 by Magnolia Home Entertainment', 'MPAA\\xa0Rating:': 'R for bloody horror violence, language throughout, brief nudity and some drug use.(Rating bulletin 2414 (Cert #50308), 3/2/2016)', 'Running Time:': '85 minutes', 'Comparisons:': 'vs. Rogue One: A Star Wars StoryCreate your own comparison chart…', 'Keywords:': 'Set in Los Angeles, Road Trip, Prologue, Voiceover/Narration, Retro Black and White, Intertitle, Occult, Satanism, Ouija Board, SÃ©ance, Spring Break, Non-Chronological, Surprise Twist, Runaway', 'Source:': 'Original Screenplay', 'Genre:': 'Horror', 'Production\\xa0Method:': 'Live Action', 'Creative\\xa0Type:': 'Fantasy', 'Production Companies:': 'Magnet Releasing, Circle of Confusion', 'Production Countries:': 'United States', 'Languages:': 'English'}]\n"
     ]
    }
   ],
   "source": [
    "results = []\n",
    "raw_html = get_html(\"https://www.the-numbers.com/movie/Satanic#tab=summary\") # this gives us html of a page \n",
    "parsed_html = BeautifulSoup(raw_html, \"html.parser\")\n",
    "tables = parsed_html.select('#summary table')\n",
    "for table in tables:\n",
    "    trs = table.select('tr')\n",
    "    if len(trs) > 10:\n",
    "        result = {}\n",
    "        for tr in trs:\n",
    "            tds = tr.find_all(\"td\")\n",
    "            if len(tds) == 2:\n",
    "                result[\"href\"] = url.replace(\"https://www.the-numbers.com\",\"\")\n",
    "                result[tds[0].get_text()] = tds[1].get_text()\n",
    "        results.append(result)\n",
    "print(results)"
   ]
  },
  {
   "cell_type": "code",
   "execution_count": 581,
   "metadata": {},
   "outputs": [],
   "source": [
    "def get_Genres_time_language(genres_links):\n",
    "    \"\"\"use page urls - loop url in it - call get_html function to get the html for each page, and then extract the wated data from the html\"\"\"\n",
    "    results = []\n",
    "    for url in genres_links:\n",
    "        raw_html = get_html(url) # this gives us html of a page \n",
    "        parsed_html = BeautifulSoup(raw_html, \"html.parser\")\n",
    "        tables = parsed_html.select('#summary table')\n",
    "        for table in tables:\n",
    "            trs = table.select('tr')\n",
    "            if len(trs) > 10:\n",
    "                result = {}\n",
    "                for tr in trs:\n",
    "                    tds = tr.find_all(\"td\")\n",
    "                    if len(tds) == 2:\n",
    "                        result[\"href\"] = url.replace(\"https://www.the-numbers.com\",\"\")\n",
    "                        result[tds[0].get_text()] = tds[1].get_text()\n",
    "                results.append(result)\n",
    "    return  results"
   ]
  },
  {
   "cell_type": "code",
   "execution_count": 582,
   "metadata": {},
   "outputs": [
    {
     "data": {
      "text/plain": [
       "[{'href': '/movie/Avengers-Endgame-(2019)#tab=summary',\n",
       "  'Domestic Releases:': 'April 26th, 2019 (Wide) by Walt DisneyApril 26th, 2019 (IMAX) by Walt Disney',\n",
       "  'International Releases:': 'April 23rd, 2019 (Limited) (China)\\nApril 24th, 2019 (Wide) (Australia)\\nApril 24th, 2019 (Wide) (China)\\nApril 24th, 2019 (Wide) (France)\\nApril 24th, 2019 (Wide) (Germany)\\n... Show all releases\\n',\n",
       "  'Video\\xa0Release:': 'July 30th, 2019 by Walt Disney Home Entertainment',\n",
       "  'MPAA\\xa0Rating:': 'PG-13 for sequences of sci-fi violence and action, and some language.(Rating bulletin 2573 (Cert #52133), 4/10/2019)',\n",
       "  'Running Time:': '181 minutes',\n",
       "  'Franchise:': 'Marvel Cinematic UniverseAvengers',\n",
       "  'Comparisons:': 'All-Time Top-Grossing Filmsvs. Avengers: Infinity WarCreate your own comparison chart…',\n",
       "  'Keywords:': 'Ensemble, Marvel Comics, Animal Lead, Non-Chronological, Super Villains, Death of a Best Friend, Motion Capture Performance, 3-D, 3-D - Post-production Conversion, IMAX: DMR, Time Travel, Good vs. Evil, Filmed in Georgia, United States, Filmed in Pinewood Atlanta Studios, Filmed in England, Filmed in New York, United States, Filmed in Scotland, Filmed in United States, Filmed in United Kingdom, Filmed in Atlanta, GA, Filmed in Fayette County, GA, Filmed in Durham Cathedral, Durham, England, Filmed in St Abbs, Scotland, Filmed in Berwickshire, Scotland, Filmed in The Gulch, Atlanta, GA, Filmed in Five Points MARTA station, Atlanta, GA, Filmed in Piedmont Park, Atlanta, GA, Filmed in Dutchess County, New York, NY, Filmed in Ulster County, New York, NY, Filmed in Fulton County, GA',\n",
       "  'Source:': 'Based on Comic/Graphic Novel',\n",
       "  'Genre:': 'Action',\n",
       "  'Production\\xa0Method:': 'Animation/Live Action',\n",
       "  'Creative\\xa0Type:': 'Super Hero',\n",
       "  'Production Companies:': 'Marvel Studios',\n",
       "  'Production Countries:': 'United States',\n",
       "  'Languages:': 'English'},\n",
       " {},\n",
       " {'href': '/movie/Avatar#tab=summary',\n",
       "  'Domestic Releases:': 'December 18th, 2009 (Wide) by 20th Century FoxDecember 18th, 2009 (IMAX) by 20th Century FoxAugust 27th, 2010 (IMAX) by 20th Century Fox, released as Avatar Special Edition: An IMAX 3D Experience',\n",
       "  'International Releases:': 'December 17th, 2009 (Wide) (Australia)\\nDecember 17th, 2009 (Wide) (New Zealand)\\nDecember 17th, 2009 (Wide) (Russia (CIS))\\nDecember 17th, 2009 (Wide) (South Korea)\\nJanuary 1st, 2010 (Wide) (Argentina)\\n... Show all releases\\n',\n",
       "  'Video\\xa0Release:': 'April 22nd, 2010 by Fox Home Entertainment',\n",
       "  'MPAA\\xa0Rating:': 'PG-13 for intense epic battle sequences and warfare, sensuality, language and some smoking.(Rating bulletin 2133, 8/11/2010)',\n",
       "  'Running Time:': '162 minutes',\n",
       "  'Franchise:': 'Avatar',\n",
       "  'Comparisons:': 'All-Time Top-Grossing FilmsBlockbusters, 2009Best Picture Oscar Nominees, 2010vs. Star Wars Ep. VII: The Force AwakensCreate your own comparison chart…',\n",
       "  'Keywords:': '3-D, Invented Language, Visual Effects, Alien Invasion, IMAX: DMR, Humans as Aliens, Language Barrier, 2010 Oscars Best Picture Nominee, Romance, Interspecies Romance, Slow Motion Scene, Wheelchair User, Voiceover/Narration, Death of a Sibling, Twins, Death of a Twin, Genetic Engineering, 3-D - Shot in 3-D, Environment, Motion Capture Performance, Filmed in Wellington, New Zealand, Filmed in New Zealand, Filmed in United States, Filmed in Stone Street Studios, Wellington, New Zealand, Filmed in Playa Vista, CA, Filmed in California, United States, Filmed in Hughes Aircraft studio, Playa Vista, CA, Filmed in Los Angeles County, CA',\n",
       "  'Source:': 'Original Screenplay',\n",
       "  'Genre:': 'Action',\n",
       "  'Production\\xa0Method:': 'Animation/Live Action',\n",
       "  'Creative\\xa0Type:': 'Science Fiction',\n",
       "  'Production Companies:': 'Dune Entertainment, 20th Century Fox, Ingenious Film Partners',\n",
       "  'Production Countries:': 'United States',\n",
       "  'Languages:': \"English, Na'vi\"},\n",
       " {}]"
      ]
     },
     "execution_count": 582,
     "metadata": {},
     "output_type": "execute_result"
    }
   ],
   "source": [
    "get_Genres_time_language(genres_links[1:3])"
   ]
  },
  {
   "cell_type": "code",
   "execution_count": 368,
   "metadata": {},
   "outputs": [],
   "source": [
    "budge_csv_header=get_csv_header(a)\n",
    "create_csv(\"test111_budget.csv\", a, budge_csv_header)"
   ]
  },
  {
   "cell_type": "code",
   "execution_count": 282,
   "metadata": {},
   "outputs": [
    {
     "data": {
      "text/plain": [
       "['https://www.the-numbers.com/movie/Star-Wars-Ep-I-The-Phantom-Menace#tab=summary']"
      ]
     },
     "execution_count": 282,
     "metadata": {},
     "output_type": "execute_result"
    }
   ],
   "source": [
    "genres_links[17:18]"
   ]
  },
  {
   "cell_type": "code",
   "execution_count": null,
   "metadata": {},
   "outputs": [],
   "source": []
  },
  {
   "cell_type": "code",
   "execution_count": null,
   "metadata": {},
   "outputs": [],
   "source": []
  },
  {
   "cell_type": "code",
   "execution_count": 583,
   "metadata": {},
   "outputs": [
    {
     "data": {
      "text/plain": [
       "['https://www.the-numbers.com/movie/Star-Wars-Ep-VII-The-Force-Awakens#tab=international',\n",
       " 'https://www.the-numbers.com/movie/Avengers-Endgame-(2019)#tab=international',\n",
       " 'https://www.the-numbers.com/movie/Avatar#tab=international',\n",
       " 'https://www.the-numbers.com/movie/Black-Panther#tab=international',\n",
       " 'https://www.the-numbers.com/movie/Avengers-Infinity-War#tab=international']"
      ]
     },
     "execution_count": 583,
     "metadata": {},
     "output_type": "execute_result"
    }
   ],
   "source": [
    "def get_internal_box_links(boxOffice_result):\n",
    "    international_box_links = []\n",
    "    for infor in boxOffice_result:\n",
    "        genres_link = \"https://www.the-numbers.com\" + infor[\"Movie_href\"]\n",
    "        international_box_link = genres_link.replace(genres_link[-7:], \"international\")\n",
    "        international_box_links.append(international_box_link)\n",
    "    return international_box_links\n",
    "international_box_links = get_internal_box_links(boxOffice_result)\n",
    "international_box_links[0:5]"
   ]
  },
  {
   "cell_type": "code",
   "execution_count": 584,
   "metadata": {},
   "outputs": [],
   "source": [
    "def get_international_box(international_box_links):\n",
    "    \"\"\"use page urls - loop url in it - call get_html function to get the html for each page, and then extract the wated data from the html\"\"\"\n",
    "    results = []\n",
    "    for url in international_box_links:\n",
    "        raw_html = get_html(url) # this gives us html of a page \n",
    "        parsed_html = BeautifulSoup(raw_html, \"html.parser\")\n",
    "        divs = parsed_html.select('#international div')\n",
    "        #print(divs[0])\n",
    "        rows = divs[0].find_all(\"tr\")\n",
    "        #print(trs)\n",
    "        #print(rows[1].select('td'))\n",
    "        result = {}\n",
    "        for row in rows:\n",
    "            #print('row is ', row)\n",
    "            tds = row.select('td')\n",
    "            if (len(tds) > 3):\n",
    "                country_name = tds[0].get_text()\n",
    "                result[\"href\"] = url.replace(\"https://www.the-numbers.com\",\"\")\n",
    "                result[country_name] = tds[6].get_text()\n",
    "        results.append(result)\n",
    "    return results\n",
    "                    "
   ]
  },
  {
   "cell_type": "code",
   "execution_count": 386,
   "metadata": {},
   "outputs": [],
   "source": [
    "b = get_international_box(international_box_links[0:3])\n"
   ]
  },
  {
   "cell_type": "code",
   "execution_count": 472,
   "metadata": {},
   "outputs": [],
   "source": [
    "budg_csv_header=get_csv_header(b)\n",
    "budg_csv_header\n",
    "create_csv(\"test222_budget.csv\", b, budg_csv_header)"
   ]
  },
  {
   "cell_type": "code",
   "execution_count": null,
   "metadata": {},
   "outputs": [],
   "source": []
  }
 ],
 "metadata": {
  "kernelspec": {
   "display_name": "Python 3",
   "language": "python",
   "name": "python3"
  },
  "language_info": {
   "codemirror_mode": {
    "name": "ipython",
    "version": 3
   },
   "file_extension": ".py",
   "mimetype": "text/x-python",
   "name": "python",
   "nbconvert_exporter": "python",
   "pygments_lexer": "ipython3",
   "version": "3.8.3"
  }
 },
 "nbformat": 4,
 "nbformat_minor": 4
}
